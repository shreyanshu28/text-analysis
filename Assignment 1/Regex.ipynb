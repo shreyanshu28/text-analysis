{
 "cells": [
  {
   "cell_type": "markdown",
   "metadata": {},
   "source": [
    "Implement your own (basic) regular expression parser, which can accept or reject a RegEx statement.\n",
    "Consider the following specifications for your RegEx grammar that should be supported.\n",
    "You are not allowed to use any RegEx library, such as Python’s re or regex modules, for this task."
   ]
  },
  {
   "cell_type": "code",
   "execution_count": 42,
   "metadata": {},
   "outputs": [],
   "source": [
    "def german_to_ascii(exp):\n",
    "    if \"ß\" in exp:\n",
    "        exp = exp.replace(\"ß\", \"\")\n",
    "    if \"ä\" in exp:\n",
    "        exp = exp.replace(\"ä\", \"\")\n",
    "    if \"ü\" in exp:\n",
    "        exp = exp.replace(\"ü\", \"\")\n",
    "    if \"ö\" in exp:\n",
    "        exp = exp.replace(\"ö\", \"\")\n",
    "    return exp"
   ]
  },
  {
   "cell_type": "code",
   "execution_count": 44,
   "metadata": {},
   "outputs": [],
   "source": [
    "def verify_regex(exp, sequence=[\"^\", \"|\", \"*\", \"+\", \"?\"]):\n",
    "    #german letters\n",
    "    exp = german_to_ascii(exp)\n",
    "    \n",
    "    #special chars sequence\n",
    "    for r in range(len(exp) - 1):\n",
    "        if exp[r] in sequence and exp[r+1] in sequence:\n",
    "            return False\n",
    "\n",
    "    return all(ord(c) < 128 for c in exp)\n",
    "\n",
    "    #return False"
   ]
  },
  {
   "cell_type": "code",
   "execution_count": 45,
   "metadata": {},
   "outputs": [
    {
     "data": {
      "text/plain": [
       "True"
      ]
     },
     "execution_count": 45,
     "metadata": {},
     "output_type": "execute_result"
    }
   ],
   "source": [
    "regex = \"ö\"\n",
    "verify_regex(regex)"
   ]
  }
 ],
 "metadata": {
  "kernelspec": {
   "display_name": "Python 3.10.8 64-bit",
   "language": "python",
   "name": "python3"
  },
  "language_info": {
   "codemirror_mode": {
    "name": "ipython",
    "version": 3
   },
   "file_extension": ".py",
   "mimetype": "text/x-python",
   "name": "python",
   "nbconvert_exporter": "python",
   "pygments_lexer": "ipython3",
   "version": "3.10.8"
  },
  "orig_nbformat": 4,
  "vscode": {
   "interpreter": {
    "hash": "e8bba4f2be892cbd4f39a9f240acc2c7ebb8cef7264d56c87dbb8c6b0bcbe231"
   }
  }
 },
 "nbformat": 4,
 "nbformat_minor": 2
}
