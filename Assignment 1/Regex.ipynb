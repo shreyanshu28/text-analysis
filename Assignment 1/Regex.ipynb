{
 "cells": [
  {
   "cell_type": "markdown",
   "metadata": {},
   "source": [
    "Implement your own (basic) regular expression parser, which can accept or reject a RegEx statement.\n",
    "Consider the following specifications for your RegEx grammar that should be supported.\n",
    "You are not allowed to use any RegEx library, such as Python’s re or regex modules, for this task."
   ]
  },
  {
   "cell_type": "code",
   "execution_count": 17,
   "metadata": {},
   "outputs": [],
   "source": [
    "def is_valid(str):\n",
    "    if 'ß' in str or 'ä' in str or 'ü' in str or 'ö' in str:\n",
    "        str.replace('ß', '')\n",
    "        str.replace('ä', '')\n",
    "        str.replace('ü', '')\n",
    "        str.replace('ö', '')\n",
    "    return all(ord(c) < 128 for c in str)"
   ]
  },
  {
   "cell_type": "code",
   "execution_count": 4,
   "metadata": {},
   "outputs": [],
   "source": [
    "def verify_regex(exp):\n",
    "\n",
    "    #validate_str = [*exp]\n",
    "\n",
    "    #For characters\n",
    "    #print(validate_str.decode('ascii'))\n",
    "    return False"
   ]
  },
  {
   "cell_type": "code",
   "execution_count": 18,
   "metadata": {},
   "outputs": [
    {
     "name": "stdout",
     "output_type": "stream",
     "text": [
      "True\n"
     ]
    }
   ],
   "source": [
    "str = \"abcß\"\n",
    "#y = [*str]\n",
    "print(is_valid(str))"
   ]
  },
  {
   "cell_type": "code",
   "execution_count": null,
   "metadata": {},
   "outputs": [],
   "source": []
  }
 ],
 "metadata": {
  "kernelspec": {
   "display_name": "Python 3.10.8 64-bit",
   "language": "python",
   "name": "python3"
  },
  "language_info": {
   "codemirror_mode": {
    "name": "ipython",
    "version": 3
   },
   "file_extension": ".py",
   "mimetype": "text/x-python",
   "name": "python",
   "nbconvert_exporter": "python",
   "pygments_lexer": "ipython3",
   "version": "3.10.8"
  },
  "orig_nbformat": 4,
  "vscode": {
   "interpreter": {
    "hash": "e8bba4f2be892cbd4f39a9f240acc2c7ebb8cef7264d56c87dbb8c6b0bcbe231"
   }
  }
 },
 "nbformat": 4,
 "nbformat_minor": 2
}
