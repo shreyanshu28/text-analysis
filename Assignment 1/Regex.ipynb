{
 "cells": [
  {
   "cell_type": "markdown",
   "metadata": {},
   "source": [
    "Implement your own (basic) regular expression parser, which can accept or reject a RegEx statement.\n",
    "Consider the following specifications for your RegEx grammar that should be supported.\n",
    "You are not allowed to use any RegEx library, such as Python’s re or regex modules, for this task."
   ]
  },
  {
   "cell_type": "code",
   "execution_count": 50,
   "metadata": {},
   "outputs": [],
   "source": [
    "def is_valid(exp):\n",
    "    if \"ß\" in exp:\n",
    "        exp = exp.replace(\"ß\", \"\")\n",
    "    elif \"ä\" in exp:\n",
    "        exp = exp.replace(\"ä\", \"\")\n",
    "    elif \"ü\" in exp:\n",
    "        exp = exp.replace(\"ü\", \"\")\n",
    "    elif \"ö\" in exp:\n",
    "        exp = exp.replace(\"ö\", \"\")\n",
    "    else:\n",
    "        return False\n",
    "    return all(ord(c) < 128 for c in exp)"
   ]
  },
  {
   "cell_type": "code",
   "execution_count": 53,
   "metadata": {},
   "outputs": [],
   "source": [
    "def verify_regex(exp):\n",
    "    \n",
    "    if exp.isalnum():\n",
    "        return is_valid(exp)\n",
    "\n",
    "    #validate_str = [*exp]\n",
    "\n",
    "    #For characters\n",
    "    #print(validate_str.decode('ascii'))\n",
    "    return False"
   ]
  },
  {
   "cell_type": "code",
   "execution_count": 56,
   "metadata": {},
   "outputs": [
    {
     "name": "stdout",
     "output_type": "stream",
     "text": [
      "1\n",
      "False\n"
     ]
    }
   ],
   "source": [
    "regex = \"abcß&)(\"\n",
    "print(verify_regex(regex))"
   ]
  },
  {
   "cell_type": "code",
   "execution_count": null,
   "metadata": {},
   "outputs": [],
   "source": []
  }
 ],
 "metadata": {
  "kernelspec": {
   "display_name": "Python 3.10.8 64-bit",
   "language": "python",
   "name": "python3"
  },
  "language_info": {
   "codemirror_mode": {
    "name": "ipython",
    "version": 3
   },
   "file_extension": ".py",
   "mimetype": "text/x-python",
   "name": "python",
   "nbconvert_exporter": "python",
   "pygments_lexer": "ipython3",
   "version": "3.10.8"
  },
  "orig_nbformat": 4,
  "vscode": {
   "interpreter": {
    "hash": "e8bba4f2be892cbd4f39a9f240acc2c7ebb8cef7264d56c87dbb8c6b0bcbe231"
   }
  }
 },
 "nbformat": 4,
 "nbformat_minor": 2
}
