{
  "cells": [
    {
      "cell_type": "markdown",
      "metadata": {
        "id": "cUgbolxu5quo"
      },
      "source": [
        "# Assignment 4: Keyphrase Extraction, Named Entity Recognition & Neural Models\n",
        "\n",
        "Due: Monday, February 06, 2023, at 2pm via Moodle\n",
        "\n",
        "**Team Members** `<Fill out>`\n",
        "\n",
        "Please note that this assignment comes with quite a number of artifacts, totaling somewhere around 5 GB of necessary disk space. In case you are running into issues or do want to keep your environment \"clean\", we suggest the use of [Google Colab](https://colab.research.google.com/)."
      ]
    },
    {
      "cell_type": "code",
      "execution_count": 2,
      "metadata": {
        "colab": {
          "base_uri": "https://localhost:8080/"
        },
        "id": "xnYkYSS1N5eg",
        "outputId": "111abea9-b3e5-4dcf-d9c6-34d292d3b4a1"
      },
      "outputs": [
        {
          "output_type": "stream",
          "name": "stdout",
          "text": [
            "Looking in indexes: https://pypi.org/simple, https://us-python.pkg.dev/colab-wheels/public/simple/\n",
            "Collecting keybert\n",
            "  Downloading keybert-0.7.0.tar.gz (21 kB)\n",
            "  Preparing metadata (setup.py): started\n",
            "  Preparing metadata (setup.py): finished with status 'done'\n",
            "Collecting sentence-transformers>=0.3.8\n",
            "  Downloading sentence-transformers-2.2.2.tar.gz (85 kB)\n",
            "     ━━━━━━━━━━━━━━━━━━━━━━━━━━━━━━━━━━━━━━━━ 86.0/86.0 KB 3.8 MB/s eta 0:00:00\n",
            "  Preparing metadata (setup.py): started\n",
            "  Preparing metadata (setup.py): finished with status 'done'\n",
            "Requirement already satisfied: scikit-learn>=0.22.2 in /usr/local/lib/python3.8/dist-packages (from keybert) (1.0.2)\n",
            "Requirement already satisfied: numpy>=1.18.5 in /usr/local/lib/python3.8/dist-packages (from keybert) (1.21.6)\n",
            "Collecting rich>=10.4.0\n",
            "  Downloading rich-13.3.1-py3-none-any.whl (239 kB)\n",
            "     ━━━━━━━━━━━━━━━━━━━━━━━━━━━━━━━━━━━━━━ 239.0/239.0 KB 11.1 MB/s eta 0:00:00\n",
            "Collecting pygments<3.0.0,>=2.14.0\n",
            "  Downloading Pygments-2.14.0-py3-none-any.whl (1.1 MB)\n",
            "     ━━━━━━━━━━━━━━━━━━━━━━━━━━━━━━━━━━━━━━━━ 1.1/1.1 MB 34.9 MB/s eta 0:00:00\n",
            "Requirement already satisfied: typing-extensions<5.0,>=4.0.0 in /usr/local/lib/python3.8/dist-packages (from rich>=10.4.0->keybert) (4.4.0)\n",
            "Collecting markdown-it-py<3.0.0,>=2.1.0\n",
            "  Downloading markdown_it_py-2.1.0-py3-none-any.whl (84 kB)\n",
            "     ━━━━━━━━━━━━━━━━━━━━━━━━━━━━━━━━━━━━━━━━ 84.5/84.5 KB 9.2 MB/s eta 0:00:00\n",
            "Requirement already satisfied: scipy>=1.1.0 in /usr/local/lib/python3.8/dist-packages (from scikit-learn>=0.22.2->keybert) (1.7.3)\n",
            "Requirement already satisfied: joblib>=0.11 in /usr/local/lib/python3.8/dist-packages (from scikit-learn>=0.22.2->keybert) (1.2.0)\n",
            "Requirement already satisfied: threadpoolctl>=2.0.0 in /usr/local/lib/python3.8/dist-packages (from scikit-learn>=0.22.2->keybert) (3.1.0)\n",
            "Collecting transformers<5.0.0,>=4.6.0\n",
            "  Downloading transformers-4.26.0-py3-none-any.whl (6.3 MB)\n",
            "     ━━━━━━━━━━━━━━━━━━━━━━━━━━━━━━━━━━━━━━━━ 6.3/6.3 MB 69.5 MB/s eta 0:00:00\n",
            "Requirement already satisfied: tqdm in /usr/local/lib/python3.8/dist-packages (from sentence-transformers>=0.3.8->keybert) (4.64.1)\n",
            "Requirement already satisfied: torch>=1.6.0 in /usr/local/lib/python3.8/dist-packages (from sentence-transformers>=0.3.8->keybert) (1.13.1+cu116)\n",
            "Requirement already satisfied: torchvision in /usr/local/lib/python3.8/dist-packages (from sentence-transformers>=0.3.8->keybert) (0.14.1+cu116)\n",
            "Requirement already satisfied: nltk in /usr/local/lib/python3.8/dist-packages (from sentence-transformers>=0.3.8->keybert) (3.7)\n",
            "Collecting sentencepiece\n",
            "  Downloading sentencepiece-0.1.97-cp38-cp38-manylinux_2_17_x86_64.manylinux2014_x86_64.whl (1.3 MB)\n",
            "     ━━━━━━━━━━━━━━━━━━━━━━━━━━━━━━━━━━━━━━━━ 1.3/1.3 MB 67.0 MB/s eta 0:00:00\n",
            "Collecting huggingface-hub>=0.4.0\n",
            "  Downloading huggingface_hub-0.12.0-py3-none-any.whl (190 kB)\n",
            "     ━━━━━━━━━━━━━━━━━━━━━━━━━━━━━━━━━━━━━━ 190.3/190.3 KB 19.4 MB/s eta 0:00:00\n",
            "Requirement already satisfied: packaging>=20.9 in /usr/local/lib/python3.8/dist-packages (from huggingface-hub>=0.4.0->sentence-transformers>=0.3.8->keybert) (21.3)\n",
            "Requirement already satisfied: filelock in /usr/local/lib/python3.8/dist-packages (from huggingface-hub>=0.4.0->sentence-transformers>=0.3.8->keybert) (3.9.0)\n",
            "Requirement already satisfied: pyyaml>=5.1 in /usr/local/lib/python3.8/dist-packages (from huggingface-hub>=0.4.0->sentence-transformers>=0.3.8->keybert) (6.0)\n",
            "Requirement already satisfied: requests in /usr/local/lib/python3.8/dist-packages (from huggingface-hub>=0.4.0->sentence-transformers>=0.3.8->keybert) (2.25.1)\n",
            "Collecting mdurl~=0.1\n",
            "  Downloading mdurl-0.1.2-py3-none-any.whl (10.0 kB)\n",
            "Collecting tokenizers!=0.11.3,<0.14,>=0.11.1\n",
            "  Downloading tokenizers-0.13.2-cp38-cp38-manylinux_2_17_x86_64.manylinux2014_x86_64.whl (7.6 MB)\n",
            "     ━━━━━━━━━━━━━━━━━━━━━━━━━━━━━━━━━━━━━━━━ 7.6/7.6 MB 85.2 MB/s eta 0:00:00\n",
            "Requirement already satisfied: regex!=2019.12.17 in /usr/local/lib/python3.8/dist-packages (from transformers<5.0.0,>=4.6.0->sentence-transformers>=0.3.8->keybert) (2022.6.2)\n",
            "Requirement already satisfied: click in /usr/local/lib/python3.8/dist-packages (from nltk->sentence-transformers>=0.3.8->keybert) (7.1.2)\n",
            "Requirement already satisfied: pillow!=8.3.*,>=5.3.0 in /usr/local/lib/python3.8/dist-packages (from torchvision->sentence-transformers>=0.3.8->keybert) (7.1.2)\n",
            "Requirement already satisfied: pyparsing!=3.0.5,>=2.0.2 in /usr/local/lib/python3.8/dist-packages (from packaging>=20.9->huggingface-hub>=0.4.0->sentence-transformers>=0.3.8->keybert) (3.0.9)\n",
            "Requirement already satisfied: idna<3,>=2.5 in /usr/local/lib/python3.8/dist-packages (from requests->huggingface-hub>=0.4.0->sentence-transformers>=0.3.8->keybert) (2.10)\n",
            "Requirement already satisfied: certifi>=2017.4.17 in /usr/local/lib/python3.8/dist-packages (from requests->huggingface-hub>=0.4.0->sentence-transformers>=0.3.8->keybert) (2022.12.7)\n",
            "Requirement already satisfied: urllib3<1.27,>=1.21.1 in /usr/local/lib/python3.8/dist-packages (from requests->huggingface-hub>=0.4.0->sentence-transformers>=0.3.8->keybert) (1.24.3)\n",
            "Requirement already satisfied: chardet<5,>=3.0.2 in /usr/local/lib/python3.8/dist-packages (from requests->huggingface-hub>=0.4.0->sentence-transformers>=0.3.8->keybert) (4.0.0)\n",
            "Building wheels for collected packages: keybert, sentence-transformers\n",
            "  Building wheel for keybert (setup.py): started\n",
            "  Building wheel for keybert (setup.py): finished with status 'done'\n",
            "  Created wheel for keybert: filename=keybert-0.7.0-py3-none-any.whl size=23800 sha256=a08db94dc50e1201ab76ee570cdd3f072ea4355598a8b26a91f83569ad0be667\n",
            "  Stored in directory: /root/.cache/pip/wheels/6c/bc/8b/a51bee77aec33895e6c8c236144b4cc10875659c4d2c80f070\n",
            "  Building wheel for sentence-transformers (setup.py): started\n",
            "  Building wheel for sentence-transformers (setup.py): finished with status 'done'\n",
            "  Created wheel for sentence-transformers: filename=sentence_transformers-2.2.2-py3-none-any.whl size=125938 sha256=6d9efa89ef737e29043dc62bf1d556f0413089efbbbc2d1dce6caf624099e8c6\n",
            "  Stored in directory: /root/.cache/pip/wheels/5e/6f/8c/d88aec621f3f542d26fac0342bef5e693335d125f4e54aeffe\n",
            "Successfully built keybert sentence-transformers\n",
            "Installing collected packages: tokenizers, sentencepiece, pygments, mdurl, markdown-it-py, huggingface-hub, transformers, rich, sentence-transformers, keybert\n",
            "  Attempting uninstall: pygments\n",
            "    Found existing installation: Pygments 2.6.1\n",
            "    Uninstalling Pygments-2.6.1:\n",
            "      Successfully uninstalled Pygments-2.6.1\n",
            "Successfully installed huggingface-hub-0.12.0 keybert-0.7.0 markdown-it-py-2.1.0 mdurl-0.1.2 pygments-2.14.0 rich-13.3.1 sentence-transformers-2.2.2 sentencepiece-0.1.97 tokenizers-0.13.2 transformers-4.26.0\n",
            "Looking in indexes: https://pypi.org/simple, https://us-python.pkg.dev/colab-wheels/public/simple/\n",
            "Collecting git+https://github.com/LIAAD/yake\n",
            "  Cloning https://github.com/LIAAD/yake to /tmp/pip-req-build-i2kvqo4m\n",
            "  Resolved https://github.com/LIAAD/yake to commit 8d71d94ded93fb77f1361f62e5264f19b9c91cd7\n",
            "  Preparing metadata (setup.py): started\n",
            "  Preparing metadata (setup.py): finished with status 'done'\n",
            "Requirement already satisfied: tabulate in /usr/local/lib/python3.8/dist-packages (from yake==0.4.8) (0.8.10)\n",
            "Requirement already satisfied: click>=6.0 in /usr/local/lib/python3.8/dist-packages (from yake==0.4.8) (7.1.2)\n",
            "Requirement already satisfied: numpy in /usr/local/lib/python3.8/dist-packages (from yake==0.4.8) (1.21.6)\n",
            "Collecting segtok\n",
            "  Downloading segtok-1.5.11-py3-none-any.whl (24 kB)\n",
            "Requirement already satisfied: networkx in /usr/local/lib/python3.8/dist-packages (from yake==0.4.8) (3.0)\n",
            "Collecting jellyfish\n",
            "  Downloading jellyfish-0.9.0.tar.gz (132 kB)\n",
            "     ━━━━━━━━━━━━━━━━━━━━━━━━━━━━━━━━━━━━━━━ 132.6/132.6 KB 5.8 MB/s eta 0:00:00\n",
            "  Preparing metadata (setup.py): started\n",
            "  Preparing metadata (setup.py): finished with status 'done'\n",
            "Requirement already satisfied: regex in /usr/local/lib/python3.8/dist-packages (from segtok->yake==0.4.8) (2022.6.2)\n",
            "Building wheels for collected packages: yake, jellyfish\n",
            "  Building wheel for yake (setup.py): started\n",
            "  Building wheel for yake (setup.py): finished with status 'done'\n",
            "  Created wheel for yake: filename=yake-0.4.8-py2.py3-none-any.whl size=62600 sha256=4b5aafc851e813570bbf50a455e5d22cf099e6515c7ea0dc22fa34b871012f97\n",
            "  Stored in directory: /tmp/pip-ephem-wheel-cache-8mvhrn_h/wheels/91/6a/18/ab7d2fc1e58b6ed936dbe90881425aea909bae3f98dae32f66\n",
            "  Building wheel for jellyfish (setup.py): started\n",
            "  Building wheel for jellyfish (setup.py): finished with status 'done'\n",
            "  Created wheel for jellyfish: filename=jellyfish-0.9.0-cp38-cp38-linux_x86_64.whl size=77930 sha256=1a4b51a709cbc9f889c67361fd84506da29f7d92a21db4425a2a361fe9c47459\n",
            "  Stored in directory: /root/.cache/pip/wheels/f1/c7/3c/4c83132de76359e3a429fd09c08995945ca96c5290a41651d3\n",
            "Successfully built yake jellyfish\n",
            "Installing collected packages: segtok, jellyfish, yake\n",
            "Successfully installed jellyfish-0.9.0 segtok-1.5.11 yake-0.4.8\n",
            "Looking in indexes: https://pypi.org/simple, https://us-python.pkg.dev/colab-wheels/public/simple/\n",
            "Requirement already satisfied: transformers in /usr/local/lib/python3.8/dist-packages (4.26.0)\n",
            "Requirement already satisfied: filelock in /usr/local/lib/python3.8/dist-packages (from transformers) (3.9.0)\n",
            "Requirement already satisfied: tqdm>=4.27 in /usr/local/lib/python3.8/dist-packages (from transformers) (4.64.1)\n",
            "Requirement already satisfied: packaging>=20.0 in /usr/local/lib/python3.8/dist-packages (from transformers) (21.3)\n",
            "Requirement already satisfied: numpy>=1.17 in /usr/local/lib/python3.8/dist-packages (from transformers) (1.21.6)\n",
            "Requirement already satisfied: regex!=2019.12.17 in /usr/local/lib/python3.8/dist-packages (from transformers) (2022.6.2)\n",
            "Requirement already satisfied: huggingface-hub<1.0,>=0.11.0 in /usr/local/lib/python3.8/dist-packages (from transformers) (0.12.0)\n",
            "Requirement already satisfied: requests in /usr/local/lib/python3.8/dist-packages (from transformers) (2.25.1)\n",
            "Requirement already satisfied: pyyaml>=5.1 in /usr/local/lib/python3.8/dist-packages (from transformers) (6.0)\n",
            "Requirement already satisfied: tokenizers!=0.11.3,<0.14,>=0.11.1 in /usr/local/lib/python3.8/dist-packages (from transformers) (0.13.2)\n",
            "Requirement already satisfied: typing-extensions>=3.7.4.3 in /usr/local/lib/python3.8/dist-packages (from huggingface-hub<1.0,>=0.11.0->transformers) (4.4.0)\n",
            "Requirement already satisfied: pyparsing!=3.0.5,>=2.0.2 in /usr/local/lib/python3.8/dist-packages (from packaging>=20.0->transformers) (3.0.9)\n",
            "Requirement already satisfied: chardet<5,>=3.0.2 in /usr/local/lib/python3.8/dist-packages (from requests->transformers) (4.0.0)\n",
            "Requirement already satisfied: certifi>=2017.4.17 in /usr/local/lib/python3.8/dist-packages (from requests->transformers) (2022.12.7)\n",
            "Requirement already satisfied: idna<3,>=2.5 in /usr/local/lib/python3.8/dist-packages (from requests->transformers) (2.10)\n",
            "Requirement already satisfied: urllib3<1.27,>=1.21.1 in /usr/local/lib/python3.8/dist-packages (from requests->transformers) (1.24.3)\n",
            "Looking in indexes: https://pypi.org/simple, https://us-python.pkg.dev/colab-wheels/public/simple/\n",
            "Collecting datasets\n",
            "  Downloading datasets-2.9.0-py3-none-any.whl (462 kB)\n",
            "     ━━━━━━━━━━━━━━━━━━━━━━━━━━━━━━━━━━━━━━━ 462.8/462.8 KB 9.4 MB/s eta 0:00:00\n",
            "Collecting responses<0.19\n",
            "  Downloading responses-0.18.0-py3-none-any.whl (38 kB)\n",
            "Requirement already satisfied: pyyaml>=5.1 in /usr/local/lib/python3.8/dist-packages (from datasets) (6.0)\n",
            "Requirement already satisfied: requests>=2.19.0 in /usr/local/lib/python3.8/dist-packages (from datasets) (2.25.1)\n",
            "Requirement already satisfied: huggingface-hub<1.0.0,>=0.2.0 in /usr/local/lib/python3.8/dist-packages (from datasets) (0.12.0)\n",
            "Requirement already satisfied: dill<0.3.7 in /usr/local/lib/python3.8/dist-packages (from datasets) (0.3.6)\n",
            "Requirement already satisfied: numpy>=1.17 in /usr/local/lib/python3.8/dist-packages (from datasets) (1.21.6)\n",
            "Collecting multiprocess\n",
            "  Downloading multiprocess-0.70.14-py38-none-any.whl (132 kB)\n",
            "     ━━━━━━━━━━━━━━━━━━━━━━━━━━━━━━━━━━━━━━ 132.0/132.0 KB 13.7 MB/s eta 0:00:00\n",
            "Requirement already satisfied: fsspec[http]>=2021.11.1 in /usr/local/lib/python3.8/dist-packages (from datasets) (2022.11.0)\n",
            "Requirement already satisfied: packaging in /usr/local/lib/python3.8/dist-packages (from datasets) (21.3)\n",
            "Requirement already satisfied: pandas in /usr/local/lib/python3.8/dist-packages (from datasets) (1.3.5)\n",
            "Collecting xxhash\n",
            "  Downloading xxhash-3.2.0-cp38-cp38-manylinux_2_17_x86_64.manylinux2014_x86_64.whl (213 kB)\n",
            "     ━━━━━━━━━━━━━━━━━━━━━━━━━━━━━━━━━━━━━━ 213.0/213.0 KB 18.4 MB/s eta 0:00:00\n",
            "Requirement already satisfied: aiohttp in /usr/local/lib/python3.8/dist-packages (from datasets) (3.8.3)\n",
            "Requirement already satisfied: pyarrow>=6.0.0 in /usr/local/lib/python3.8/dist-packages (from datasets) (9.0.0)\n",
            "Requirement already satisfied: tqdm>=4.62.1 in /usr/local/lib/python3.8/dist-packages (from datasets) (4.64.1)\n",
            "Requirement already satisfied: frozenlist>=1.1.1 in /usr/local/lib/python3.8/dist-packages (from aiohttp->datasets) (1.3.3)\n",
            "Requirement already satisfied: charset-normalizer<3.0,>=2.0 in /usr/local/lib/python3.8/dist-packages (from aiohttp->datasets) (2.1.1)\n",
            "Requirement already satisfied: attrs>=17.3.0 in /usr/local/lib/python3.8/dist-packages (from aiohttp->datasets) (22.2.0)\n",
            "Requirement already satisfied: async-timeout<5.0,>=4.0.0a3 in /usr/local/lib/python3.8/dist-packages (from aiohttp->datasets) (4.0.2)\n",
            "Requirement already satisfied: aiosignal>=1.1.2 in /usr/local/lib/python3.8/dist-packages (from aiohttp->datasets) (1.3.1)\n",
            "Requirement already satisfied: yarl<2.0,>=1.0 in /usr/local/lib/python3.8/dist-packages (from aiohttp->datasets) (1.8.2)\n",
            "Requirement already satisfied: multidict<7.0,>=4.5 in /usr/local/lib/python3.8/dist-packages (from aiohttp->datasets) (6.0.4)\n",
            "Requirement already satisfied: typing-extensions>=3.7.4.3 in /usr/local/lib/python3.8/dist-packages (from huggingface-hub<1.0.0,>=0.2.0->datasets) (4.4.0)\n",
            "Requirement already satisfied: filelock in /usr/local/lib/python3.8/dist-packages (from huggingface-hub<1.0.0,>=0.2.0->datasets) (3.9.0)\n",
            "Requirement already satisfied: pyparsing!=3.0.5,>=2.0.2 in /usr/local/lib/python3.8/dist-packages (from packaging->datasets) (3.0.9)\n",
            "Requirement already satisfied: idna<3,>=2.5 in /usr/local/lib/python3.8/dist-packages (from requests>=2.19.0->datasets) (2.10)\n",
            "Requirement already satisfied: urllib3<1.27,>=1.21.1 in /usr/local/lib/python3.8/dist-packages (from requests>=2.19.0->datasets) (1.24.3)\n",
            "Requirement already satisfied: certifi>=2017.4.17 in /usr/local/lib/python3.8/dist-packages (from requests>=2.19.0->datasets) (2022.12.7)\n",
            "Requirement already satisfied: chardet<5,>=3.0.2 in /usr/local/lib/python3.8/dist-packages (from requests>=2.19.0->datasets) (4.0.0)\n",
            "Collecting urllib3<1.27,>=1.21.1\n",
            "  Downloading urllib3-1.26.14-py2.py3-none-any.whl (140 kB)\n",
            "     ━━━━━━━━━━━━━━━━━━━━━━━━━━━━━━━━━━━━━━ 140.6/140.6 KB 14.3 MB/s eta 0:00:00\n",
            "Requirement already satisfied: python-dateutil>=2.7.3 in /usr/local/lib/python3.8/dist-packages (from pandas->datasets) (2.8.2)\n",
            "Requirement already satisfied: pytz>=2017.3 in /usr/local/lib/python3.8/dist-packages (from pandas->datasets) (2022.7)\n",
            "Requirement already satisfied: six>=1.5 in /usr/local/lib/python3.8/dist-packages (from python-dateutil>=2.7.3->pandas->datasets) (1.15.0)\n",
            "Installing collected packages: xxhash, urllib3, multiprocess, responses, datasets\n",
            "  Attempting uninstall: urllib3\n",
            "    Found existing installation: urllib3 1.24.3\n",
            "    Uninstalling urllib3-1.24.3:\n",
            "      Successfully uninstalled urllib3-1.24.3\n",
            "Successfully installed datasets-2.9.0 multiprocess-0.70.14 responses-0.18.0 urllib3-1.26.14 xxhash-3.2.0\n",
            "Looking in indexes: https://pypi.org/simple, https://us-python.pkg.dev/colab-wheels/public/simple/\n",
            "Requirement already satisfied: nltk in /usr/local/lib/python3.8/dist-packages (3.7)\n",
            "Requirement already satisfied: joblib in /usr/local/lib/python3.8/dist-packages (from nltk) (1.2.0)\n",
            "Requirement already satisfied: click in /usr/local/lib/python3.8/dist-packages (from nltk) (7.1.2)\n",
            "Requirement already satisfied: regex>=2021.8.3 in /usr/local/lib/python3.8/dist-packages (from nltk) (2022.6.2)\n",
            "Requirement already satisfied: tqdm in /usr/local/lib/python3.8/dist-packages (from nltk) (4.64.1)\n",
            "Looking in indexes: https://pypi.org/simple, https://us-python.pkg.dev/colab-wheels/public/simple/\n",
            "Requirement already satisfied: spacy in /usr/local/lib/python3.8/dist-packages (3.4.4)\n",
            "Requirement already satisfied: typer<0.8.0,>=0.3.0 in /usr/local/lib/python3.8/dist-packages (from spacy) (0.7.0)\n",
            "Requirement already satisfied: pydantic!=1.8,!=1.8.1,<1.11.0,>=1.7.4 in /usr/local/lib/python3.8/dist-packages (from spacy) (1.10.4)\n",
            "Requirement already satisfied: pathy>=0.3.5 in /usr/local/lib/python3.8/dist-packages (from spacy) (0.10.1)\n",
            "Requirement already satisfied: smart-open<7.0.0,>=5.2.1 in /usr/local/lib/python3.8/dist-packages (from spacy) (6.3.0)\n",
            "Requirement already satisfied: requests<3.0.0,>=2.13.0 in /usr/local/lib/python3.8/dist-packages (from spacy) (2.25.1)\n",
            "Requirement already satisfied: numpy>=1.15.0 in /usr/local/lib/python3.8/dist-packages (from spacy) (1.21.6)\n",
            "Requirement already satisfied: murmurhash<1.1.0,>=0.28.0 in /usr/local/lib/python3.8/dist-packages (from spacy) (1.0.9)\n",
            "Requirement already satisfied: cymem<2.1.0,>=2.0.2 in /usr/local/lib/python3.8/dist-packages (from spacy) (2.0.7)\n",
            "Requirement already satisfied: wasabi<1.1.0,>=0.9.1 in /usr/local/lib/python3.8/dist-packages (from spacy) (0.10.1)\n",
            "Requirement already satisfied: spacy-loggers<2.0.0,>=1.0.0 in /usr/local/lib/python3.8/dist-packages (from spacy) (1.0.4)\n",
            "Requirement already satisfied: packaging>=20.0 in /usr/local/lib/python3.8/dist-packages (from spacy) (21.3)\n",
            "Requirement already satisfied: langcodes<4.0.0,>=3.2.0 in /usr/local/lib/python3.8/dist-packages (from spacy) (3.3.0)\n",
            "Requirement already satisfied: jinja2 in /usr/local/lib/python3.8/dist-packages (from spacy) (2.11.3)\n",
            "Requirement already satisfied: thinc<8.2.0,>=8.1.0 in /usr/local/lib/python3.8/dist-packages (from spacy) (8.1.6)\n",
            "Requirement already satisfied: preshed<3.1.0,>=3.0.2 in /usr/local/lib/python3.8/dist-packages (from spacy) (3.0.8)\n",
            "Requirement already satisfied: spacy-legacy<3.1.0,>=3.0.10 in /usr/local/lib/python3.8/dist-packages (from spacy) (3.0.11)\n",
            "Requirement already satisfied: srsly<3.0.0,>=2.4.3 in /usr/local/lib/python3.8/dist-packages (from spacy) (2.4.5)\n",
            "Requirement already satisfied: tqdm<5.0.0,>=4.38.0 in /usr/local/lib/python3.8/dist-packages (from spacy) (4.64.1)\n",
            "Requirement already satisfied: setuptools in /usr/local/lib/python3.8/dist-packages (from spacy) (57.4.0)\n",
            "Requirement already satisfied: catalogue<2.1.0,>=2.0.6 in /usr/local/lib/python3.8/dist-packages (from spacy) (2.0.8)\n",
            "Requirement already satisfied: pyparsing!=3.0.5,>=2.0.2 in /usr/local/lib/python3.8/dist-packages (from packaging>=20.0->spacy) (3.0.9)\n",
            "Requirement already satisfied: typing-extensions>=4.2.0 in /usr/local/lib/python3.8/dist-packages (from pydantic!=1.8,!=1.8.1,<1.11.0,>=1.7.4->spacy) (4.4.0)\n",
            "Requirement already satisfied: certifi>=2017.4.17 in /usr/local/lib/python3.8/dist-packages (from requests<3.0.0,>=2.13.0->spacy) (2022.12.7)\n",
            "Requirement already satisfied: urllib3<1.27,>=1.21.1 in /usr/local/lib/python3.8/dist-packages (from requests<3.0.0,>=2.13.0->spacy) (1.26.14)\n",
            "Requirement already satisfied: idna<3,>=2.5 in /usr/local/lib/python3.8/dist-packages (from requests<3.0.0,>=2.13.0->spacy) (2.10)\n",
            "Requirement already satisfied: chardet<5,>=3.0.2 in /usr/local/lib/python3.8/dist-packages (from requests<3.0.0,>=2.13.0->spacy) (4.0.0)\n",
            "Requirement already satisfied: blis<0.8.0,>=0.7.8 in /usr/local/lib/python3.8/dist-packages (from thinc<8.2.0,>=8.1.0->spacy) (0.7.9)\n",
            "Requirement already satisfied: confection<1.0.0,>=0.0.1 in /usr/local/lib/python3.8/dist-packages (from thinc<8.2.0,>=8.1.0->spacy) (0.0.3)\n",
            "Requirement already satisfied: click<9.0.0,>=7.1.1 in /usr/local/lib/python3.8/dist-packages (from typer<0.8.0,>=0.3.0->spacy) (7.1.2)\n",
            "Requirement already satisfied: MarkupSafe>=0.23 in /usr/local/lib/python3.8/dist-packages (from jinja2->spacy) (2.0.1)\n"
          ]
        },
        {
          "output_type": "stream",
          "name": "stderr",
          "text": [
            "ERROR: pip's dependency resolver does not currently take into account all the packages that are installed. This behaviour is the source of the following dependency conflicts.\n",
            "ipython 7.9.0 requires jedi>=0.10, which is not installed.\n",
            "  Running command git clone --filter=blob:none --quiet https://github.com/LIAAD/yake /tmp/pip-req-build-i2kvqo4m\n"
          ]
        }
      ],
      "source": [
        "%%bash\n",
        ". ~/.bashrc\n",
        "python3 -m pip install keybert\n",
        "python3 -m pip install git+https://github.com/LIAAD/yake\n",
        "python3 -m pip install transformers\n",
        "python3 -m pip install datasets\n",
        "python3 -m pip install nltk\n",
        "python3 -m pip install spacy\n",
        "# Install necessary packages for all questions"
      ]
    },
    {
      "cell_type": "markdown",
      "metadata": {
        "id": "315kqIiW2Zhr"
      },
      "source": [
        "## Task 1: Keyphrase Extraction (5 + 3 + 3 + 5) = 16 Points\n",
        "\n",
        "In this task, we will implement our own unsupervised keyphrase extraction (KPE) module utilizing a simple grammatical ruling system, which we apply to a Sherlock Holmes novel.\n",
        "To generate TF-IDF-weighted phrases, we will be using the entire collection of Sir Arthur Donan Coyle novels to calculate document frequencies.\n",
        "\n",
        "Finally, we compare the results to general-purpose KPE libraries."
      ]
    },
    {
      "cell_type": "markdown",
      "metadata": {
        "id": "joME4y0pC-bq"
      },
      "source": [
        "### Sub Task 1: Unsupervised Keyphrase Extraction System (5 Points)\n",
        "\n",
        "#### 1. Candidate Generation\n",
        "We will need to generate a set of suitable candidate phrases first, which can then be ranked as keyphrases later on. To do this, we will again be using spaCy's, this time its rule-based [`Matcher` class](https://spacy.io/api/matcher).\n",
        "\n",
        "The syntactic pattern of a keyphrase candidate should satisfy the following rules:\n",
        "\n",
        "1. An optional adjective, noun, proper noun\n",
        "2. An optional adjective, noun, proper noun\n",
        "3. A mandatory noun or proper noun.\n",
        "\n",
        "Add a second pattern, which recognizes the pattern\n",
        "\n",
        "1. A noun or proper noun\n",
        "2. An adposition\n",
        "3. Another noun or proper noun\n",
        "\n",
        "Note that the first condition will match any phrase of length between 1-3 tokens, which is a suitable approximation for our task at hand, whereas the second pattern is slightly more specific, always matching exactly three tokens.\n",
        "An example of a valid matched phrases for the first pattern would be \"Sherlock Holmes\" ([PROPN, PROPN]), and \"Hounds of Baskervilles\" ([NOUN, ADP, PROPN]) for the second pattern."
      ]
    },
    {
      "cell_type": "code",
      "execution_count": 1,
      "metadata": {
        "id": "j7yKhziiDkzJ",
        "colab": {
          "base_uri": "https://localhost:8080/"
        },
        "outputId": "a96b7910-5e03-423d-f2b2-5e4388501e8d"
      },
      "outputs": [
        {
          "output_type": "stream",
          "name": "stderr",
          "text": [
            "/usr/local/lib/python3.8/dist-packages/torch/cuda/__init__.py:497: UserWarning: Can't initialize NVML\n",
            "  warnings.warn(\"Can't initialize NVML\")\n"
          ]
        }
      ],
      "source": [
        "import spacy\n",
        "from spacy.matcher import Matcher"
      ]
    },
    {
      "cell_type": "code",
      "execution_count": 5,
      "metadata": {
        "id": "1cFJOPt3DlZu"
      },
      "outputs": [],
      "source": [
        "# load language model\n",
        "nlp = spacy.load(\"en_core_web_sm\", disable=[\"ner\"])\n",
        "matcher = Matcher(nlp.vocab)\n",
        "\n",
        "# Define the above patterns\n",
        "pattern1 = [\n",
        "    {\"OP\": \"?\" , \"POS\": \"ADJ\"},\n",
        "    {\"OP\": \"?\" , \"POS\": \"NOUN\", \"OP\": \"?\" , \"POS\": \"PROPN\"},\n",
        "    {\"OP\": \"?\" , \"POS\": \"NOUN\", \"OP\": \"?\" , \"POS\": \"PROPN\"},\n",
        "    {\"OP\": \"+\" , \"POS\": \"NOUN\", \"OP\": \"?\" , \"POS\": \"PROPN\"},\n",
        "]\n",
        "matcher.add(\"PATTERN1\", [pattern1])\n",
        "pattern2 = [\n",
        "    {\"POS\": \"NOUN\", \"OP\": \"?\" , \"POS\": \"PROPN\"},\n",
        "    {\"POS\": \"ADP\"},\n",
        "    {\"POS\": \"NOUN\", \"OP\": \"?\" , \"POS\": \"PROPN\"},\n",
        "]\n",
        "\n",
        "# Add the second pattern to the Matcher\n",
        "#matcher.add(\"PATTERN2\",[pattern2])\n",
        "matcher.add(\"PATTERN1\", [pattern1])\n",
        "matcher.add(\"PATTERN2\", [pattern2])"
      ]
    },
    {
      "cell_type": "markdown",
      "metadata": {
        "id": "qsFP417ZN5eq"
      },
      "source": [
        "To verify whether your pattern is correct, use the below example.\n",
        "If you have done everything correctly, your matcher will identify **13 phrases**."
      ]
    },
    {
      "cell_type": "code",
      "source": [
        "doc = nlp(\"This is a simple test. It should return 'simple', and 'test', among other phrases. Maybe we can also see if it can recognize the art of war. Would it recognize integer linear programming, too?\")\n",
        "matches = matcher(doc)\n",
        "\n",
        "print(len(matches))"
      ],
      "metadata": {
        "colab": {
          "base_uri": "https://localhost:8080/"
        },
        "id": "nm5BD9YpmbS6",
        "outputId": "6701770c-728f-4ced-bda1-c4c60ecb1937"
      },
      "execution_count": 6,
      "outputs": [
        {
          "output_type": "stream",
          "name": "stdout",
          "text": [
            "8\n"
          ]
        }
      ]
    },
    {
      "cell_type": "markdown",
      "metadata": {
        "id": "3x2TRsI-GeLq"
      },
      "source": [
        "#### 2. Applying Your System\n",
        "\n",
        "Once you have matched the correct number of keyphrase candidates on the above example, apply your rule-based matcher to an actual data sample. We are going to use the Sherlock Holmes novel \"Hounds of Baskervilles\". You can find the raw text file at the following URL:\n",
        "\n",
        "https://sherlock-holm.es/stories/plain-text/houn.txt\n",
        "\n",
        "Download the text from this URL and apply your spaCy model and matcher on it.  \n",
        "**Hint:** Make sure you properly decode your input, since some libraries return binary strings."
      ]
    },
    {
      "cell_type": "code",
      "execution_count": null,
      "metadata": {
        "id": "cbDFj7DSLQ5v"
      },
      "outputs": [],
      "source": [
        "from urllib.request import urlopen\n",
        "def load_txt_from_url(url: str = \"https://sherlock-holm.es/stories/plain-text/houn.txt\") -> str:\n",
        "  response = urlopen(url)\n",
        "  data = response.read()\n",
        "  text = data.decode(\"utf-8\")\n",
        "  return text\n",
        "\n",
        "text = load_txt_from_url()\n",
        "\n",
        "# Apply the spacy model to the loaded text and extract the phrases with the Matcher\n",
        "doc = nlp(text)\n",
        "matches = matcher(doc)\n",
        "print(len(matches))\n",
        "print(text)"
      ]
    },
    {
      "cell_type": "markdown",
      "metadata": {
        "id": "q4U96ELPKtIA"
      },
      "source": [
        "We will now investigate which phrase candidates are the most frequently appearing in this novel, simply based on the phrase frequency. Therefore, convert your abstract match objects into actual strings, lowercase them, and return the 20 most frequently occurring phrase candidates and their respective frequencies.  \n",
        "**Hint:** For counting occurrences, you may look at `collections.Counter`."
      ]
    },
    {
      "cell_type": "code",
      "source": [
        "print(matches)"
      ],
      "metadata": {
        "colab": {
          "base_uri": "https://localhost:8080/"
        },
        "id": "rz-TURrdbxy8",
        "outputId": "39ac35cc-70d5-4903-82a3-59259bc19f9e"
      },
      "execution_count": 9,
      "outputs": [
        {
          "output_type": "stream",
          "name": "stdout",
          "text": [
            "[(9072940276618146552, 32, 35)]\n"
          ]
        }
      ]
    },
    {
      "cell_type": "code",
      "execution_count": 6,
      "metadata": {
        "id": "_tGof05SIXES",
        "colab": {
          "base_uri": "https://localhost:8080/",
          "height": 235
        },
        "outputId": "7a0d2841-0b89-4e19-86a6-50cf9d1e317c"
      },
      "outputs": [
        {
          "output_type": "error",
          "ename": "AttributeError",
          "evalue": "ignored",
          "traceback": [
            "\u001b[0;31m---------------------------------------------------------------------------\u001b[0m",
            "\u001b[0;31mAttributeError\u001b[0m                            Traceback (most recent call last)",
            "\u001b[0;32m<ipython-input-6-6ab79e9a24d1>\u001b[0m in \u001b[0;36m<module>\u001b[0;34m\u001b[0m\n\u001b[1;32m      6\u001b[0m \u001b[0;32mfor\u001b[0m \u001b[0mcandidate\u001b[0m \u001b[0;32min\u001b[0m \u001b[0mmatches\u001b[0m\u001b[0;34m:\u001b[0m\u001b[0;34m\u001b[0m\u001b[0;34m\u001b[0m\u001b[0m\n\u001b[1;32m      7\u001b[0m \u001b[0;34m\u001b[0m\u001b[0m\n\u001b[0;32m----> 8\u001b[0;31m     \u001b[0mcandidates\u001b[0m\u001b[0;34m.\u001b[0m\u001b[0mappend\u001b[0m\u001b[0;34m(\u001b[0m\u001b[0mcandidate\u001b[0m\u001b[0;34m[\u001b[0m\u001b[0;36m0\u001b[0m\u001b[0;34m]\u001b[0m\u001b[0;34m.\u001b[0m\u001b[0mlower\u001b[0m\u001b[0;34m(\u001b[0m\u001b[0;34m)\u001b[0m\u001b[0;34m)\u001b[0m\u001b[0;34m\u001b[0m\u001b[0;34m\u001b[0m\u001b[0m\n\u001b[0m\u001b[1;32m      9\u001b[0m \u001b[0;34m\u001b[0m\u001b[0m\n\u001b[1;32m     10\u001b[0m \u001b[0mcandidate_phrases\u001b[0m \u001b[0;34m=\u001b[0m \u001b[0mCounter\u001b[0m\u001b[0;34m(\u001b[0m\u001b[0mcandidates\u001b[0m\u001b[0;34m)\u001b[0m\u001b[0;34m\u001b[0m\u001b[0;34m\u001b[0m\u001b[0m\n",
            "\u001b[0;31mAttributeError\u001b[0m: 'int' object has no attribute 'lower'"
          ]
        }
      ],
      "source": [
        "from collections import Counter\n",
        "\n",
        "candidates = []\n",
        "# Lowercase and add the extracted candidate matches to `candidates`\n",
        "## YOUR CODE\n",
        "for candidate in matches:\n",
        "    \n",
        "    candidates.append(candidate[0].lower())\n",
        "\n",
        "candidate_phrases = Counter(candidates)\n",
        "\n",
        "# Print the most frequently occurring phrases, together with the respective frequencies\n",
        "print(candidate_phrases.most_common(20))"
      ]
    },
    {
      "cell_type": "markdown",
      "metadata": {
        "id": "WYQt8278NA7v"
      },
      "source": [
        "#### 3. Briefly summarize the quality of your top 20 candidates:\n",
        "\n",
        "YOUR ANSWER"
      ]
    },
    {
      "cell_type": "markdown",
      "metadata": {
        "id": "aucrN3TPJqw1"
      },
      "source": [
        "### Sub Task 2: Generating Document Frequency Values (3 Points)\n",
        "\n",
        "To compare the previously generated terms with a more refined model, we are going to extract document frequencies from the collection of all Sherlock Holmes works. Since the books are relatively long documents, we are instead going to split based on a simple heuristic in the input document, which should allow a decent approximation by taking into account individual chapters of each novel."
      ]
    },
    {
      "cell_type": "markdown",
      "metadata": {
        "id": "mfp7rUN9N218"
      },
      "source": [
        "1. Start by loading the Sherlock Holmes canon from https://sherlock-holm.es/stories/plain-text/cnus.txt  \n",
        "Afterwards, split the full document into individual chapters. For this, use three consecutive line breaks `\\n\\n\\n` as a splitting condition to approximate the chapters."
      ]
    },
    {
      "cell_type": "code",
      "execution_count": 7,
      "metadata": {
        "id": "FJYRCDJyP-Xp",
        "colab": {
          "base_uri": "https://localhost:8080/"
        },
        "outputId": "0fcd32c2-7131-4716-d20e-c5234d4e277c"
      },
      "outputs": [
        {
          "output_type": "stream",
          "name": "stdout",
          "text": [
            "353\n"
          ]
        }
      ],
      "source": [
        "df_texts = load_txt_from_url(\"https://sherlock-holm.es/stories/plain-text/cnus.txt\")\n",
        "\n",
        "chapter_split = \"\\n\\n\\n\"\n",
        "split_df_texts = df_texts.split(chapter_split)\n",
        "\n",
        "print(len(split_df_texts))"
      ]
    },
    {
      "cell_type": "markdown",
      "metadata": {
        "id": "oRcMyiKkRU7d"
      },
      "source": [
        "After splitting, you should have 353 individual \"documents\" to work with.\n",
        "\n",
        "2. Now, create a dictionary containing each phrase encountered in the larger corpus, and its associated document frequency. Again, ensure that phrase strings are lowercased for consistency with the previous transformation.  \n",
        "**Hint:** Since the processing of 353 documents might take a while, incorporate [`tqdm.tqdm`](https://tqdm.github.io/) to visualize progress on the task."
      ]
    },
    {
      "cell_type": "code",
      "execution_count": 10,
      "metadata": {
        "id": "JtXpYkWQQJi2",
        "colab": {
          "base_uri": "https://localhost:8080/"
        },
        "outputId": "d34d38b3-7f7b-49b0-b71e-d8a4592a44f4"
      },
      "outputs": [
        {
          "output_type": "stream",
          "name": "stderr",
          "text": [
            "100%|██████████| 353/353 [01:08<00:00,  5.12it/s]\n"
          ]
        }
      ],
      "source": [
        "from tqdm import tqdm\n",
        "from typing import List\n",
        "\n",
        "def return_occurring_phrases(doc_text: str) -> List[str]:\n",
        "  # process text with spaCy and apply the Matcher\n",
        "  doc = nlp(doc_text)\n",
        "  matches = matcher(doc)\n",
        "\n",
        "  # Candidates can be a set, since we only care about the occurrence *once* for IDF values.\n",
        "  # Again, extract the lower-cased text of a matched span.\n",
        "  candidates = set()\n",
        "  for match_id, start, end in matches:\n",
        "    span = doc[start:end]\n",
        "    candidates.add(span.text.lower())\n",
        "\n",
        "  return list(candidates)\n",
        "\n",
        "all_document_phrases = []\n",
        "# Iterate through the individual documents and extract phrases for them. Use `tqdm` to visualize progress\n",
        "## YOUR CODE\n",
        "for chapter in tqdm(split_df_texts):\n",
        "    all_document_phrases.extend(return_occurring_phrases(chapter))\n",
        "\n",
        "# Once again, count the frequency of term occurrences across all documents\n",
        "## YOUR CODE\n",
        "phrase_freq = Counter(all_document_phrases)\n"
      ]
    },
    {
      "cell_type": "markdown",
      "metadata": {
        "id": "zde0WJp3N5e8"
      },
      "source": [
        "3. Output the 20 most frequently appearing document phrases that your system detected:"
      ]
    },
    {
      "cell_type": "code",
      "execution_count": 11,
      "metadata": {
        "id": "7vDTmrTLSY2q",
        "colab": {
          "base_uri": "https://localhost:8080/"
        },
        "outputId": "811392fa-07a0-4a95-cde6-9bcb9dcbcd3c"
      },
      "outputs": [
        {
          "output_type": "stream",
          "name": "stdout",
          "text": [
            "[('of', 149), ('in', 114), ('on', 110), ('from', 110), ('with', 109), ('for', 109), ('holmes', 107), ('by', 107), ('to', 107), ('up', 106), ('at', 106), ('great', 105), ('down', 105), ('out', 105), ('into', 105), ('about', 105), ('as', 105), ('over', 104), ('own', 103), ('other', 103)]\n"
          ]
        }
      ],
      "source": [
        "from collections import Counter\n",
        "\n",
        "most_common_phrases = phrase_freq.most_common(20)\n",
        "print(most_common_phrases)"
      ]
    },
    {
      "cell_type": "markdown",
      "metadata": {
        "id": "vR9FmhTpS_TB"
      },
      "source": [
        "### Sub Task 3: Generating Weighted Keyphrases (3 Points)\n",
        "\n",
        "We can now incorporate the extracted keyphrases to calculate `tf-idf` scores, and return a hopefully improved version of our keyphrases for the original \"Hounds of Baskervilles\" document. \n",
        "\n",
        "1. Iterate over all phrases occurring in the novel \"Hounds of Baskervilles\", and re-score phrases according to the definition of TF-IDF. Use the smoothed definition of idf:\n",
        "\n",
        "$ idf(t, D) = \\log \\frac{|D|}{|\\{d \\in D : t \\in d\\}| + 1} + 1 $"
      ]
    },
    {
      "cell_type": "code",
      "source": [
        "import math\n",
        "from typing import Dict\n",
        "\n",
        "def tf_idf(tf: int, df_count: int, num_docs: int) -> float:\n",
        "  \"\"\"\n",
        "  Computes the TF-IDF scores according to the formula.\n",
        "  \"\"\"\n",
        "  idf = math.log(num_docs / (df_count + 1)) + 1\n",
        "  return tf * idf\n",
        "\n",
        "tf_idf_weighted_candidates = []\n",
        "num_docs = 1000 ## number of documents in the corpus\n",
        "\n",
        "# Iterate through all candidate phrase/frequency pairs and compute the TF-IDF scores for each phrase\n",
        "# Store the phrase together with its TF-IDF score in `tf_idf_weighted_candidates`\n",
        "for candidate, tf in candidate_phrases.items():\n",
        "  df_count = 1000## the number of documents in the corpus that contain the candidate phrase\n",
        "  tf_idf_weighted_candidates.append((candidate, tf_idf(tf, df_count, num_docs)))\n"
      ],
      "metadata": {
        "colab": {
          "base_uri": "https://localhost:8080/",
          "height": 235
        },
        "id": "qGjqCzWNucS1",
        "outputId": "4fb83cff-a8ff-458f-ab80-226c003c6bf4"
      },
      "execution_count": 13,
      "outputs": [
        {
          "output_type": "error",
          "ename": "NameError",
          "evalue": "ignored",
          "traceback": [
            "\u001b[0;31m---------------------------------------------------------------------------\u001b[0m",
            "\u001b[0;31mNameError\u001b[0m                                 Traceback (most recent call last)",
            "\u001b[0;32m<ipython-input-13-1d1e29b6739a>\u001b[0m in \u001b[0;36m<module>\u001b[0;34m\u001b[0m\n\u001b[1;32m     14\u001b[0m \u001b[0;31m# Iterate through all candidate phrase/frequency pairs and compute the TF-IDF scores for each phrase\u001b[0m\u001b[0;34m\u001b[0m\u001b[0;34m\u001b[0m\u001b[0;34m\u001b[0m\u001b[0m\n\u001b[1;32m     15\u001b[0m \u001b[0;31m# Store the phrase together with its TF-IDF score in `tf_idf_weighted_candidates`\u001b[0m\u001b[0;34m\u001b[0m\u001b[0;34m\u001b[0m\u001b[0;34m\u001b[0m\u001b[0m\n\u001b[0;32m---> 16\u001b[0;31m \u001b[0;32mfor\u001b[0m \u001b[0mcandidate\u001b[0m\u001b[0;34m,\u001b[0m \u001b[0mtf\u001b[0m \u001b[0;32min\u001b[0m \u001b[0mcandidate_phrases\u001b[0m\u001b[0;34m.\u001b[0m\u001b[0mitems\u001b[0m\u001b[0;34m(\u001b[0m\u001b[0;34m)\u001b[0m\u001b[0;34m:\u001b[0m\u001b[0;34m\u001b[0m\u001b[0;34m\u001b[0m\u001b[0m\n\u001b[0m\u001b[1;32m     17\u001b[0m   \u001b[0mdf_count\u001b[0m \u001b[0;34m=\u001b[0m \u001b[0;36m1000\u001b[0m\u001b[0;31m## the number of documents in the corpus that contain the candidate phrase\u001b[0m\u001b[0;34m\u001b[0m\u001b[0;34m\u001b[0m\u001b[0m\n\u001b[1;32m     18\u001b[0m   \u001b[0mtf_idf_weighted_candidates\u001b[0m\u001b[0;34m.\u001b[0m\u001b[0mappend\u001b[0m\u001b[0;34m(\u001b[0m\u001b[0;34m(\u001b[0m\u001b[0mcandidate\u001b[0m\u001b[0;34m,\u001b[0m \u001b[0mtf_idf\u001b[0m\u001b[0;34m(\u001b[0m\u001b[0mtf\u001b[0m\u001b[0;34m,\u001b[0m \u001b[0mdf_count\u001b[0m\u001b[0;34m,\u001b[0m \u001b[0mnum_docs\u001b[0m\u001b[0;34m)\u001b[0m\u001b[0;34m)\u001b[0m\u001b[0;34m)\u001b[0m\u001b[0;34m\u001b[0m\u001b[0;34m\u001b[0m\u001b[0m\n",
            "\u001b[0;31mNameError\u001b[0m: name 'candidate_phrases' is not defined"
          ]
        }
      ]
    },
    {
      "cell_type": "code",
      "execution_count": null,
      "metadata": {
        "id": "HDDoPiAATWat"
      },
      "outputs": [],
      "source": [
        "import math\n",
        "from typing import Dict\n",
        "\n",
        "def tf_idf(tf: int, df_count: int) -> float:\n",
        "  \"\"\"\n",
        "  Computes the TF-IDF scores according to the above-mentioned formula.\n",
        "  Note that you may use a constant for the number of documents (|D|).\n",
        "  \"\"\"\n",
        "  idf = math.log10(total_documents / df_count)\n",
        "  tf_idf = tf * idf\n",
        "  return tf_idf\n",
        "  \n",
        "\n",
        "tf_idf_weighted_candidates = []\n",
        "\n",
        "# Iterate through all candidate phrase/frequency pairs and compute the TF-IDF scores for each phrase\n",
        "# Store the phrase together with its TF-IDF score in `tf_idf_weighted_candidates`\n",
        "for candidate, tf in candidate_phrases.items():\n",
        "  tf_idf_weighted_candidates.append( ## YOUR CODE\n",
        "                                    df_count = candidate_df_counts[candidate] # assuming that candidate_df_counts is a dictionary that stores the df_count for each candidate phrase\n",
        "  tf_idf_score = tf_idf(tf, df_count, total_documents)\n",
        "  tf_idf_weighted_candidates.append((candidate, tf_idf_score))"
      ]
    },
    {
      "cell_type": "markdown",
      "metadata": {
        "id": "mSfTPsukVoEF"
      },
      "source": [
        "2. Now print the top 20 candidate phrases by TF-IDF weight, and compare the results to your previous output. "
      ]
    },
    {
      "cell_type": "code",
      "execution_count": null,
      "metadata": {
        "id": "w8ulSamTUsGP"
      },
      "outputs": [],
      "source": [
        "print(## YOUR CODE"
      ]
    },
    {
      "cell_type": "markdown",
      "metadata": {
        "id": "kdmGgOThVmyz"
      },
      "source": [
        "3. Write your insights on the comparison of the results below. Try to theorize why some of the phrases still appear, or why other phrases are no longer present:"
      ]
    },
    {
      "cell_type": "markdown",
      "metadata": {
        "id": "unfE0H6jN5fF"
      },
      "source": [
        "YOUR ANSWER HERE"
      ]
    },
    {
      "cell_type": "markdown",
      "metadata": {
        "id": "2y8eaRPNWHut"
      },
      "source": [
        "4. Give two examples of how you could further improve the list of keyphrase values."
      ]
    },
    {
      "cell_type": "markdown",
      "metadata": {
        "id": "1yfMZ0etWNj_"
      },
      "source": [
        "YOUR ANSWER HERE\n",
        "\n"
      ]
    },
    {
      "cell_type": "markdown",
      "metadata": {
        "id": "woIvDPVTN5fH"
      },
      "source": [
        "### Sub Task 4: Apply off-the-shelf Keyphrase Extraction Tools (5 Points)\n",
        "\n",
        "To put the findings of your system into context, compare them with two popular open-source libraries, namely [YAKE!](https://github.com/LIAAD/yake) and [KeyBERT](https://github.com/MaartenGr/KeyBERT)."
      ]
    },
    {
      "cell_type": "markdown",
      "metadata": {
        "id": "k9BaxIs9N5fI"
      },
      "source": [
        "1. First, start by running the document with YAKE!; you may use the default parameters. Print the resulting keyphrases, which by default returns 20 phrases."
      ]
    },
    {
      "cell_type": "code",
      "execution_count": null,
      "metadata": {
        "id": "ramO3BFMN5fI"
      },
      "outputs": [],
      "source": [
        "import yake\n",
        "\n",
        "extractor = yake.KeywordExtractor()\n",
        "keywords = extractor.extract_keywords(doc)\n",
        "\n",
        "# Print the top 20 keywords\n",
        "print(keywords[:20])"
      ]
    },
    {
      "cell_type": "code",
      "source": [
        "pip install rake-nltk\n"
      ],
      "metadata": {
        "colab": {
          "base_uri": "https://localhost:8080/"
        },
        "id": "zWbWYOl9luDt",
        "outputId": "7f427530-927b-496f-d250-d16c821fb3c7"
      },
      "execution_count": null,
      "outputs": [
        {
          "output_type": "stream",
          "name": "stdout",
          "text": [
            "Looking in indexes: https://pypi.org/simple, https://us-python.pkg.dev/colab-wheels/public/simple/\n",
            "Collecting rake-nltk\n",
            "  Downloading rake_nltk-1.0.6-py3-none-any.whl (9.1 kB)\n",
            "Requirement already satisfied: nltk<4.0.0,>=3.6.2 in /usr/local/lib/python3.8/dist-packages (from rake-nltk) (3.7)\n",
            "Requirement already satisfied: regex>=2021.8.3 in /usr/local/lib/python3.8/dist-packages (from nltk<4.0.0,>=3.6.2->rake-nltk) (2022.6.2)\n",
            "Requirement already satisfied: click in /usr/local/lib/python3.8/dist-packages (from nltk<4.0.0,>=3.6.2->rake-nltk) (7.1.2)\n",
            "Requirement already satisfied: tqdm in /usr/local/lib/python3.8/dist-packages (from nltk<4.0.0,>=3.6.2->rake-nltk) (4.64.1)\n",
            "Requirement already satisfied: joblib in /usr/local/lib/python3.8/dist-packages (from nltk<4.0.0,>=3.6.2->rake-nltk) (1.2.0)\n",
            "Installing collected packages: rake-nltk\n",
            "Successfully installed rake-nltk-1.0.6\n"
          ]
        }
      ]
    },
    {
      "cell_type": "markdown",
      "metadata": {
        "id": "89axY_UGN5fJ"
      },
      "source": [
        "2. Compare both runtime efficiency and the extracted phrases with your own system."
      ]
    },
    {
      "cell_type": "markdown",
      "metadata": {
        "id": "li0lfN_TN5fK"
      },
      "source": [
        "YOUR ANSWER HERE"
      ]
    },
    {
      "cell_type": "markdown",
      "metadata": {
        "id": "JdnN-iOsN5fK"
      },
      "source": [
        "3. Now use the KeyBERT library to extract keyphrases. Importantly, you will need to split the document into separate paragraphs, as the underlying neural model will be unable to handle the complete document as input.  \n",
        "Use the pattern of `\\n\\n` to separate the text into smaller paragraphs, and filter out any empty lines after. An \"empty line\" also constitutes all inputs that only contain newline (`\\n`) or whitespace ` ` characters.\n"
      ]
    },
    {
      "cell_type": "code",
      "execution_count": null,
      "metadata": {
        "id": "nda4FiaZN5fL"
      },
      "outputs": [],
      "source": [
        "# Split the input text according to the specified criteria and filter empty lines out.\n",
        "split_text = ## YOUR CODE"
      ]
    },
    {
      "cell_type": "markdown",
      "metadata": {
        "id": "5v57oCiEN5fN"
      },
      "source": [
        "4. To ensure consistency between the tools when extracting keyphrases, set the *n*-gram range to `(1,3)`.\n",
        "Otherwise, leave all parameters at the default value, and extract the keyphrases from each paragraph."
      ]
    },
    {
      "cell_type": "code",
      "execution_count": null,
      "metadata": {
        "id": "lq1AZy6mN5fO"
      },
      "outputs": [],
      "source": [
        "from keybert import KeyBERT\n",
        "\n",
        "# This might take a while to install\n",
        "model = KeyBERT(\"all-MiniLM-L6-v2\")\n",
        "\n",
        "# Extract the keyphrases from each split, using the adjusted keyphrase ngram range\n",
        "# Hint: You may pass a list to the extraction function and KeyBERT will automatically handle iteration.\n",
        "extracted_phrases = ## YOUR CODE"
      ]
    },
    {
      "cell_type": "markdown",
      "metadata": {
        "id": "_EISbIiKN5fQ"
      },
      "source": [
        "5. Combine the predictions of all individual splits into a single list. For this, sum up the prediction scores across all splits.  \n",
        "**Hint:** `collections.defaultdict` makes aggregations like this much easier."
      ]
    },
    {
      "cell_type": "code",
      "execution_count": null,
      "metadata": {
        "id": "eqDJWlApN5fR"
      },
      "outputs": [],
      "source": [
        "from typing import List, Tuple\n",
        "from collections import defaultdict\n",
        "\n",
        "def merge_predictions(list_of_predictions: List[List[Tuple]]) -> List[Tuple]:\n",
        "    \"\"\"\n",
        "    Combines lists of predictions into a single list with added scores.\n",
        "    \"\"\"\n",
        "    phrase_dict = ## YOUR CODE\n",
        "\n",
        "    # Iterate through all the lists of predictions and add the scores to the correct dict entry\n",
        "    ## YOUR CODE\n",
        "\n",
        "    # Extract the 20 keyphrases with the highest weithgts from `phrase_dict`\n",
        "    phrase_list = ## YOUR CODE\n",
        "\n",
        "    return phrase_list"
      ]
    },
    {
      "cell_type": "code",
      "execution_count": null,
      "metadata": {
        "id": "UojrC0roN5fS"
      },
      "outputs": [],
      "source": [
        "print(merge_predictions(extracted_phrases))"
      ]
    },
    {
      "cell_type": "markdown",
      "metadata": {
        "id": "ujBiyJ-ON5fT"
      },
      "source": [
        "6. Again, evaluate the result and compare it to the other two approaches in terms of extraction quality and extraction speed."
      ]
    },
    {
      "cell_type": "markdown",
      "metadata": {
        "id": "N22prRKEN5fU"
      },
      "source": [
        "YOUR ANSWER HERE"
      ]
    },
    {
      "cell_type": "markdown",
      "metadata": {
        "id": "JnaFZAtmN5fV"
      },
      "source": [
        "## 2. Named Entity Recognition (4 + 5 + 5 = 14 Points)"
      ]
    },
    {
      "cell_type": "markdown",
      "metadata": {
        "id": "PPS0EpvBN5fW"
      },
      "source": [
        "Slightly different, but still operating on the sequence level, is the task of Named Entity Recognition (NER).\n",
        "In this task, we will evaluate the NER capabilities of some more open-source libraries.\n",
        "Particularly, we will also evaluate the utility of NER as a stand-in for Keyphrase Extraction."
      ]
    },
    {
      "cell_type": "markdown",
      "metadata": {
        "id": "aVKGse6LN5fW"
      },
      "source": [
        "### Sub Task 1: Using spaCy NER (4 Points)\n",
        "\n",
        "So far, when using spaCy models, we have primarily disabled the NER component, as it requires significant extra compute.\n",
        "In this task, we will explicitly leave the component enabled, to see what results it can produce on the text from the previous question."
      ]
    },
    {
      "cell_type": "code",
      "execution_count": null,
      "metadata": {
        "id": "eMxrDKVdN5fX"
      },
      "outputs": [],
      "source": [
        "import spacy\n",
        "\n",
        "# Load the en_core_web_sm model, but with NER enabled.\n",
        "nlp = spacy.load(\"en_core_web_sm\")"
      ]
    },
    {
      "cell_type": "markdown",
      "metadata": {
        "id": "Qgs21ncaN5fY"
      },
      "source": [
        "1. Re-load the text for the \"Hounds of Baskervilles\" novel, and run it with the spacy model."
      ]
    },
    {
      "cell_type": "code",
      "execution_count": null,
      "metadata": {
        "id": "aHNW10U2N5fY"
      },
      "outputs": [],
      "source": [
        "# Re-use the function from the previous exercise.\n",
        "text = ## YOUR CODE\n",
        "\n",
        "doc = ## YOUR CODE"
      ]
    },
    {
      "cell_type": "markdown",
      "metadata": {
        "id": "ke0gMAtsN5fZ"
      },
      "source": [
        "2. Similar to the previous exercise, count the number of occurrences, however, this time for the extracted entities instead of phrases. Print the top 20 most frequently occurring entities.  \n",
        "Make sure to lowercase the text again during your aggregation."
      ]
    },
    {
      "cell_type": "code",
      "execution_count": null,
      "metadata": {
        "id": "a2RIIFO9N5fZ"
      },
      "outputs": [],
      "source": [
        "# Count the number of occurrences of particular entities\n",
        "## YOUR CODE\n",
        "\n",
        "# Print the top 20 most frequently occurring entities.\n",
        "print( ## YOUR CODE"
      ]
    },
    {
      "cell_type": "markdown",
      "metadata": {
        "id": "SDQkO8t-N5fa"
      },
      "source": [
        "You might have noticed some unwanted results in the list, such as \"night\". Upon closer inspection, it turns out that the NER module further differentiates between different entity *categories*, such as PERSON (referencing, as expected, a physical person) or ORG (organizations, such as companies, NGOs, etc.), but also TIME (under which \"night\" falls). For reference, you can find the full list of supported NER labels by this particular model [here](https://spacy.io/models/en#en_core_web_sm-labels).\n",
        "\n",
        "3. Refine the list of most common entities by printing out the top three occurring entities in the category `PERSON`, `ORG` and `GPE` (physical locations) instead."
      ]
    },
    {
      "cell_type": "code",
      "execution_count": null,
      "metadata": {
        "id": "_fFdpHkWN5fb"
      },
      "outputs": [],
      "source": [
        "def get_top_entities_by_class(doc: spacy.tokens.Doc, class_name: str, n: int = 3) -> List[Tuple[str, int]]:\n",
        "    \"\"\"\n",
        "    Returns the three most frequent entities (and their frequencies)\n",
        "    of entity type `class_name` from `doc`.\n",
        "    \"\"\"\n",
        "    # Extract phrase and frequency of a particular entity class\n",
        "    counter = ## YOUR CODE\n",
        "    # Return the top 3 entities and frequencies\n",
        "    return ## YOUR CODE\n",
        "\n",
        "# Print the results for \"PERSON\", \"ORG\" and \"GPE\"\n",
        "print( ## YOUR CODE\n",
        "print( ## YOUR CODE\n",
        "print( ## YOUR CODE"
      ]
    },
    {
      "cell_type": "markdown",
      "metadata": {
        "id": "HVKF32UJN5fc"
      },
      "source": [
        "### Sub Task 2: Financial Bank Statements of Deutsche Bank (5 Points)\n",
        "\n",
        "Instead of using the Sherlock Holmes Novels, we will now compare the functionality of spaCy and NLTK's NER modules on the financial statements of Deutsche Bank from 2021. For this, see the file available on Moodle.\n",
        "\n",
        "1. Download it and convert the PDF document into text, by using the `pdftotext` command-line utility. In particular, run with the `-layout` option enabled."
      ]
    },
    {
      "cell_type": "code",
      "execution_count": null,
      "metadata": {
        "id": "MtjCCblkN5fc"
      },
      "outputs": [],
      "source": [
        "%%bash\n",
        ". ~/.bashrc\n",
        "## YOUR SHELL COMMAND HERE\n",
        "# If you have to execute this command through your shell, still paste the command you ran in here."
      ]
    },
    {
      "cell_type": "markdown",
      "metadata": {
        "id": "PJyTOJseN5fd"
      },
      "source": [
        "2. Given that the document is extremely long, split the inputs into chunks of 500.000 characters and process them separately."
      ]
    },
    {
      "cell_type": "code",
      "execution_count": null,
      "metadata": {
        "id": "rQS5nnNJN5fe"
      },
      "outputs": [],
      "source": [
        "def load_long_text_in_chunks(fp: str, chunk_size: int = 500_000) -> List[str]:\n",
        "    \"\"\"\n",
        "    Loads a text file (located at `fp`) and chunks it into chunks fo at most `chunk_size` characters.\n",
        "    Note that the last chunk might be significantly shorter.\n",
        "    \"\"\"\n",
        "    # Load the text file\n",
        "    text = ## YOUR CODE\n",
        "\n",
        "    # Split the text into segments of at most `chunk_size` characters\n",
        "    chunks = ## YOUR CODE\n",
        "    return chunks"
      ]
    },
    {
      "cell_type": "code",
      "execution_count": null,
      "metadata": {
        "id": "209RB1VXN5ff"
      },
      "outputs": [],
      "source": [
        "db_chunks = load_long_text_in_chunks( ## YOUR CODE HERE)"
      ]
    },
    {
      "cell_type": "markdown",
      "metadata": {
        "id": "2cy3gXVVN5ff"
      },
      "source": [
        "3. Print the top 5 occurring `ORG` entities that are not referencing Deutsche Bank itself, both by using spaCy's NER module and the NER function of NLTK.  \n",
        "To exclude \"Deutsche Bank\" entities, filter out all entities that contain both \"deutsche\" and \"bank\" in their name, irrespective of the actual upper-/lowercasing.\n",
        "**Hint:** For more information on how to run NER with NLTK, see [here](https://nanonets.com/blog/named-entity-recognition-with-nltk-and-spacy/#performing-ner-with-nltk-and-spacy)"
      ]
    },
    {
      "cell_type": "code",
      "execution_count": null,
      "metadata": {
        "id": "9-Zr6B8KN5fg"
      },
      "outputs": [],
      "source": [
        "import nltk\n",
        "nltk.download('punkt')\n",
        "nltk.download('averaged_perceptron_tagger')\n",
        "nltk.download('maxent_ne_chunker')\n",
        "nltk.download('words')\n",
        "\n",
        "org_entities_spacy = []\n",
        "org_entities_nltk = []\n",
        "\n",
        "def is_deutsche_bank_entity(name: str) -> bool:\n",
        "    \"\"\"\n",
        "    Returns True if the entity name contains \"deutsche\" and \"bank\" in some upper-/lowercased version.\n",
        "    This means both \"Deutsche Bank\" and \"deutsche bank's\" should be recognized.\n",
        "    \"\"\"\n",
        "    ## YOUR CODE\n",
        "\n",
        "for chunk in db_chunks:\n",
        "    # Process the chunk with spaCy\n",
        "    doc = ## YOUR CODE\n",
        "\n",
        "    # And also with NLTK\n",
        "    ## YOUR CODE\n",
        "    \n",
        "\n",
        "    # Add all the extracted \"ORG\" entities to `org_entities`, except those referencing Deutsche Bank\n",
        "    org_entities_spacy.extend( ## YOUR CODE\n",
        "    org_entities_nltk.extend( ## YOUR CODE\n",
        "    "
      ]
    },
    {
      "cell_type": "code",
      "execution_count": null,
      "metadata": {
        "id": "AgKHj_RxN5fh"
      },
      "outputs": [],
      "source": [
        "# Return the top 5 entities by frequency\n",
        "\n",
        "entity_counts_spacy = ## YOUR CODE\n",
        "entity_counts_nltk = ## YOUR CODE\n",
        "\n",
        "print( ## YOUR CODE\n",
        "print( ## YOUR CODE"
      ]
    },
    {
      "cell_type": "markdown",
      "metadata": {
        "id": "rzziZ46HN5fi"
      },
      "source": [
        "4. Compare and analyze the different results between the two methods."
      ]
    },
    {
      "cell_type": "markdown",
      "metadata": {
        "id": "Bq3aKOrxN5fj"
      },
      "source": [
        "YOUR ANSWER HERE"
      ]
    },
    {
      "cell_type": "markdown",
      "metadata": {
        "id": "K8_vK9a6N5fk"
      },
      "source": [
        "### Sub Task 3: Co-Occurrence Counts of Entities (5 Points)\n",
        "\n",
        "As is becoming apparent, the *raw* occurrence counts of entities might not be meaningful on its own, especially if we are interested in less frequently occurring entities.\n",
        "\n",
        "Instead, we will \"investigate\" the entities that are most frequently mentioned in association with \"Deutsche Bank\". For this purpose, we will look at the textual co-occurrences of two named entities. The basic idea is that entities that frequently appear together are likely related.\n",
        "\n",
        "1. For each text chunk, extract all mentions of the entity `('Deutsche Bank', 'ORG')`, as well as all `PERSON` entity mentions in the text using spaCy. Store the respective entity name and the text position. Unlike the previous question, you do *not* need to check for different spelllings of the \"Deutsche Bank\" entity.  \n",
        "**Hint:** Entities are represented as a [`Span`](https://spacy.io/api/span) element in spaCy, which has access to text position.\n"
      ]
    },
    {
      "cell_type": "code",
      "execution_count": null,
      "metadata": {
        "id": "pZvRoYhrN5fl"
      },
      "outputs": [],
      "source": [
        "entity_mentions_with_start_position = []\n",
        "\n",
        "for chunk in db_chunks:\n",
        "    chunk_mentions = []\n",
        "    # Process the doc with spaCy\n",
        "    doc = ## YOUR CODE\n",
        "    \n",
        "    # Extract only entity mentions of \"Deutsche Bank\" (ORG) or any PERSON mention.\n",
        "    # Append each mention, including the text and its starting position, to `chunk_mentions`\n",
        "    \n",
        "    # Append the chunk's entities to the aggregate list\n",
        "    entity_mentions_with_start_position.append(chunk_mentions)\n"
      ]
    },
    {
      "cell_type": "markdown",
      "metadata": {
        "id": "QvUQgW3WN5fm"
      },
      "source": [
        "2. Within each chunk, for each mention of `Deutsche Bank`, search for `PERSON` entities that have a starting position within 200 characters before/after the starting position of the `Deutsche Bank` mention. Count for each `PERSON` entity how many times it occurs nearby a mention of `Deutsche Bank`.  \n",
        "Aggregate the co-occurrences across all chunks. "
      ]
    },
    {
      "cell_type": "code",
      "execution_count": null,
      "metadata": {
        "id": "j-rf0VOCN5fn"
      },
      "outputs": [],
      "source": [
        "co_occurrences = []\n",
        "\n",
        "for chunk_mentions in entity_mentions_with_start_position:\n",
        "    # Iterate through the entities. If the entity is a \"Deutsche Bank\" mention, extract nearby\n",
        "    # PERSON references (less than +/- 200 character difference in the starting position)\n",
        "\n",
        "    ## YOUR CODE"
      ]
    },
    {
      "cell_type": "markdown",
      "metadata": {
        "id": "2QcrZKShN5fn"
      },
      "source": [
        "\n",
        "3. Return the number of co-occurrences and the name of the top 5 frequently occurring `PERSON` entities.\n"
      ]
    },
    {
      "cell_type": "code",
      "execution_count": null,
      "metadata": {
        "id": "E1HoIL6uN5fp"
      },
      "outputs": [],
      "source": [
        "co_occurrence_counts = ## YOUR CODE\n",
        "\n",
        "print( ## YOUR CODE"
      ]
    },
    {
      "cell_type": "markdown",
      "metadata": {
        "id": "AZJbeXr5N5fp"
      },
      "source": [
        "4. Look back at the results of your previous task. Are the `PERSON` entities returned by your co-occurrence method the same ones that appear most frequently by raw counts?"
      ]
    },
    {
      "cell_type": "markdown",
      "metadata": {
        "id": "qqFxPLzQN5fq"
      },
      "source": [
        "YOUR ANSWER HERE"
      ]
    },
    {
      "cell_type": "markdown",
      "metadata": {
        "id": "0SDQb5FSN5fr"
      },
      "source": [
        "## 3. Neural Models with Huggingface (3 + 5 + 2 = 10 Points)\n",
        "\n",
        "For state-of-the-art performance, most text-related tasks nowadays use some variation of the Transformer architecture. The particular advantage is especiall the readily available weights for models that have been pre-trained on large general-purpose datasets, which reduces the amount of domain-specific labeled training data.\n",
        "\n",
        "In this task, we will explore the [Huggingface](https://hf.co/) ecosystem to see in which way Transformer models can be used.\n",
        "One of the central aspects of the Huggingface platform is the so-called [Model Hub](https://huggingface.co/models), where you can find many different models uploaded by community members for a variety of tasks.\n",
        "\n",
        "Because the neural models are generally very expensive to run, this exercise will be limited to  less data than in previous questions."
      ]
    },
    {
      "cell_type": "markdown",
      "metadata": {
        "id": "bfnYLAcyN5fr"
      },
      "source": [
        "### Sub Task 1: Loading Transformer Models (3 Points)\n",
        "\n",
        "1. Install the `transformers` library and load the model `cardiffnlp/twitter-roberta-base-sentiment-latest` to classify a sequence.\n",
        "2. Report the result of the prediction on the test sequence."
      ]
    },
    {
      "cell_type": "code",
      "execution_count": null,
      "metadata": {
        "id": "FUJeAiPWN5fs"
      },
      "outputs": [],
      "source": [
        "from transformers import ## YOUR IMPORTS\n",
        "\n",
        "model = ## YOUR CODE\n",
        "tokenizer = ## YOUR CODE\n",
        "\n",
        "input_text = \"Das ist ein Test.\"\n",
        "\n",
        "prediction = ## YOUR CODE"
      ]
    },
    {
      "cell_type": "markdown",
      "metadata": {
        "id": "0HcFckAON5ft"
      },
      "source": [
        "### Sub Task 2: Using Pipelines (5 Points)\n",
        "\n",
        "The most succinct way of using a Transformer model is the [`transformers.pipeline`](https://huggingface.co/docs/transformers/pipeline_tutorial). You can check out the linked tutorial for more information on the topic, but essentially, `pipeline` provides a light-weight wrapper around a number of different popular NLP tasks\n",
        "\n",
        "1. Instead of manually defining a pipeline, now load a model through a `\"text-classification\"` pipeline. Look up the neural model that is loaded by default, and post the link to its [model card](https://huggingface.co/docs/hub/model-cards) below.\n"
      ]
    },
    {
      "cell_type": "code",
      "execution_count": null,
      "metadata": {
        "id": "oqbu7_k7N5ft"
      },
      "outputs": [],
      "source": [
        "## YOUR CODE"
      ]
    },
    {
      "cell_type": "markdown",
      "metadata": {
        "id": "1uVT4rnMN5fu"
      },
      "source": [
        "2. Now, instead, load a pipeline for `\"text-classification\"`, but with a custom model and tokenizer. Use the Model Hub platform to find the most popular model for the German language (by number of downloads) and manually specify the usage of another model (and tokenizer) to the pipeline. Re-run the previous example, and report the prediction result.\n"
      ]
    },
    {
      "cell_type": "code",
      "execution_count": null,
      "metadata": {
        "id": "UuMzM6zLN5fu"
      },
      "outputs": [],
      "source": [
        "\n",
        "model = ## YOUR CODE\n",
        "tokenizer = ## YOUR CODE\n",
        "\n",
        "# Instantiate the pipeline with custom components\n",
        "pipe = ## YOUR CODE\n",
        "\n",
        "# Output the prediction by your pipe on the test sample.\n",
        "print( ## YOUR CODE"
      ]
    },
    {
      "cell_type": "markdown",
      "metadata": {
        "id": "izP5QVL1N5fv"
      },
      "source": [
        "3. Keeping in line with the previous exercises, let us now try and actually predict something with the model. Re-load a pipeline, this time for Named Entity Recognition, using the default model."
      ]
    },
    {
      "cell_type": "code",
      "execution_count": null,
      "metadata": {
        "id": "YP4Be9rTN5fv"
      },
      "outputs": [],
      "source": [
        "## YOUR CODE"
      ]
    },
    {
      "cell_type": "markdown",
      "metadata": {
        "id": "EkMU0X_yN5fw"
      },
      "source": [
        "4. Run the pipeline with the text from the Deutsche Bank report from Question 2 and output the results."
      ]
    },
    {
      "cell_type": "code",
      "execution_count": null,
      "metadata": {
        "id": "_EGpkZxPN5fw"
      },
      "outputs": [],
      "source": [
        "## YOUR CODE\n",
        "\n",
        "print( ## YOUR CODE"
      ]
    },
    {
      "cell_type": "markdown",
      "metadata": {
        "id": "wL5jRPAoN5fx"
      },
      "source": [
        "5. Look at the results. Something looks strange here; why is it not working properly? Elaborate your answer."
      ]
    },
    {
      "cell_type": "markdown",
      "metadata": {
        "id": "KTi64ElTN5fx"
      },
      "source": [
        "YOUR ANSWER HERE"
      ]
    },
    {
      "cell_type": "markdown",
      "metadata": {
        "id": "qlWkd0vKN5fy"
      },
      "source": [
        "### Sub Task 3: Using Datasets through Huggingface (2 Points)\n",
        "\n",
        "Instead of using the `transformers` library for model training and inference, it is also possible to use other libraries by Huggingface without neural models.\n",
        "In particular, the `datasets` library provides a centralized and streamlined way of accessing a variety of different datasets.\n",
        "\n",
        "1. Using the `datasets` library, load the `imdb` dataset."
      ]
    },
    {
      "cell_type": "code",
      "execution_count": null,
      "metadata": {
        "id": "0stgjIQoN5fz"
      },
      "outputs": [],
      "source": [
        "## YOUR CODE"
      ]
    },
    {
      "cell_type": "markdown",
      "metadata": {
        "id": "2BDyV3GMN5fz"
      },
      "source": [
        "2. Report the mean length of `text` column for the training, validation and test split, respectively.\n"
      ]
    },
    {
      "cell_type": "code",
      "execution_count": null,
      "metadata": {
        "id": "DKNF0NhlN5f0"
      },
      "outputs": [],
      "source": [
        "## YOUR CODE"
      ]
    }
  ],
  "metadata": {
    "colab": {
      "provenance": []
    },
    "kernelspec": {
      "display_name": "base",
      "language": "python",
      "name": "python3"
    },
    "language_info": {
      "codemirror_mode": {
        "name": "ipython",
        "version": 3
      },
      "file_extension": ".py",
      "mimetype": "text/x-python",
      "name": "python",
      "nbconvert_exporter": "python",
      "pygments_lexer": "ipython3",
      "version": "3.9.7"
    },
    "vscode": {
      "interpreter": {
        "hash": "c2042d1922a07c71a3ec2c9c9cbb77e812df8ca713873bc0ea973593272381e2"
      }
    }
  },
  "nbformat": 4,
  "nbformat_minor": 0
}